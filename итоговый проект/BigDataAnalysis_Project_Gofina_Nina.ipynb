{
 "cells": [
  {
   "cell_type": "markdown",
   "id": "f25e7aac",
   "metadata": {},
   "source": [
    "# В исследовании решается задача классификация сотрудников по признаку target - ищет (1) или не ищет (0) работу\n",
    "\n",
    "# Источник данных - https://www.kaggle.com/arashnic/hr-analytics-job-change-of-data-scientists"
   ]
  },
  {
   "cell_type": "code",
   "execution_count": 1,
   "id": "246825a9",
   "metadata": {
    "_cell_guid": "b1076dfc-b9ad-4769-8c92-a6c4dae69d19",
    "_uuid": "8f2839f25d086af736a60e9eeb907d3b93b6e0e5",
    "papermill": {
     "duration": 1.009969,
     "end_time": "2021-11-16T09:37:07.276720",
     "exception": false,
     "start_time": "2021-11-16T09:37:06.266751",
     "status": "completed"
    },
    "tags": []
   },
   "outputs": [],
   "source": [
    "import numpy as np\n",
    "import pandas as pd\n",
    "\n",
    "from sklearn.linear_model import LogisticRegression\n",
    "from sklearn.neighbors import KNeighborsClassifier\n",
    "from sklearn.tree import DecisionTreeClassifier\n",
    "from sklearn.ensemble import RandomForestClassifier\n",
    "\n",
    "from sklearn.metrics import classification_report\n",
    "\n",
    "from sklearn.model_selection import GridSearchCV\n",
    "from sklearn.model_selection import train_test_split\n",
    "from sklearn.preprocessing import LabelEncoder\n",
    "from sklearn.preprocessing import StandardScaler\n",
    "import matplotlib.pyplot as plt\n",
    "\n",
    "import os"
   ]
  },
  {
   "cell_type": "code",
   "execution_count": 2,
   "id": "69d525c9-0f39-48c7-81f2-71d4182818f9",
   "metadata": {},
   "outputs": [],
   "source": [
    "plt.rcParams[\"figure.figsize\"] = (10,8)"
   ]
  },
  {
   "cell_type": "markdown",
   "id": "c66d1648",
   "metadata": {
    "papermill": {
     "duration": 0.083315,
     "end_time": "2021-11-16T09:37:07.488921",
     "exception": false,
     "start_time": "2021-11-16T09:37:07.405606",
     "status": "completed"
    },
    "tags": []
   },
   "source": [
    "# План\n",
    "\n",
    "1. Импорт данных, разведочный анализ \n",
    "2. Подготовка и очистка данных\n",
    "3. Обучение модели\n",
    "5. Выводы"
   ]
  },
  {
   "cell_type": "markdown",
   "id": "723c7e9f",
   "metadata": {
    "papermill": {
     "duration": 0.071128,
     "end_time": "2021-11-16T09:37:07.636610",
     "exception": false,
     "start_time": "2021-11-16T09:37:07.565482",
     "status": "completed"
    },
    "tags": []
   },
   "source": [
    "# Импорт данных, разведочный анализ данных"
   ]
  },
  {
   "cell_type": "code",
   "execution_count": 3,
   "id": "a4d2fb4d",
   "metadata": {
    "papermill": {
     "duration": 0.16034,
     "end_time": "2021-11-16T09:37:07.869857",
     "exception": false,
     "start_time": "2021-11-16T09:37:07.709517",
     "status": "completed"
    },
    "tags": []
   },
   "outputs": [],
   "source": [
    "train = pd.read_csv('aug_train.csv')"
   ]
  },
  {
   "cell_type": "code",
   "execution_count": 4,
   "id": "b6a1a726",
   "metadata": {
    "papermill": {
     "duration": 0.115391,
     "end_time": "2021-11-16T09:37:08.513412",
     "exception": false,
     "start_time": "2021-11-16T09:37:08.398021",
     "status": "completed"
    },
    "tags": []
   },
   "outputs": [
    {
     "data": {
      "text/html": [
       "<div>\n",
       "<style scoped>\n",
       "    .dataframe tbody tr th:only-of-type {\n",
       "        vertical-align: middle;\n",
       "    }\n",
       "\n",
       "    .dataframe tbody tr th {\n",
       "        vertical-align: top;\n",
       "    }\n",
       "\n",
       "    .dataframe thead th {\n",
       "        text-align: right;\n",
       "    }\n",
       "</style>\n",
       "<table border=\"1\" class=\"dataframe\">\n",
       "  <thead>\n",
       "    <tr style=\"text-align: right;\">\n",
       "      <th></th>\n",
       "      <th>enrollee_id</th>\n",
       "      <th>city</th>\n",
       "      <th>city_development_index</th>\n",
       "      <th>gender</th>\n",
       "      <th>relevent_experience</th>\n",
       "      <th>enrolled_university</th>\n",
       "      <th>education_level</th>\n",
       "      <th>major_discipline</th>\n",
       "      <th>experience</th>\n",
       "      <th>company_size</th>\n",
       "      <th>company_type</th>\n",
       "      <th>last_new_job</th>\n",
       "      <th>training_hours</th>\n",
       "      <th>target</th>\n",
       "    </tr>\n",
       "  </thead>\n",
       "  <tbody>\n",
       "    <tr>\n",
       "      <th>0</th>\n",
       "      <td>8949</td>\n",
       "      <td>city_103</td>\n",
       "      <td>0.920</td>\n",
       "      <td>Male</td>\n",
       "      <td>Has relevent experience</td>\n",
       "      <td>no_enrollment</td>\n",
       "      <td>Graduate</td>\n",
       "      <td>STEM</td>\n",
       "      <td>&gt;20</td>\n",
       "      <td>NaN</td>\n",
       "      <td>NaN</td>\n",
       "      <td>1</td>\n",
       "      <td>36</td>\n",
       "      <td>1.0</td>\n",
       "    </tr>\n",
       "    <tr>\n",
       "      <th>1</th>\n",
       "      <td>29725</td>\n",
       "      <td>city_40</td>\n",
       "      <td>0.776</td>\n",
       "      <td>Male</td>\n",
       "      <td>No relevent experience</td>\n",
       "      <td>no_enrollment</td>\n",
       "      <td>Graduate</td>\n",
       "      <td>STEM</td>\n",
       "      <td>15</td>\n",
       "      <td>50-99</td>\n",
       "      <td>Pvt Ltd</td>\n",
       "      <td>&gt;4</td>\n",
       "      <td>47</td>\n",
       "      <td>0.0</td>\n",
       "    </tr>\n",
       "    <tr>\n",
       "      <th>2</th>\n",
       "      <td>11561</td>\n",
       "      <td>city_21</td>\n",
       "      <td>0.624</td>\n",
       "      <td>NaN</td>\n",
       "      <td>No relevent experience</td>\n",
       "      <td>Full time course</td>\n",
       "      <td>Graduate</td>\n",
       "      <td>STEM</td>\n",
       "      <td>5</td>\n",
       "      <td>NaN</td>\n",
       "      <td>NaN</td>\n",
       "      <td>never</td>\n",
       "      <td>83</td>\n",
       "      <td>0.0</td>\n",
       "    </tr>\n",
       "    <tr>\n",
       "      <th>3</th>\n",
       "      <td>33241</td>\n",
       "      <td>city_115</td>\n",
       "      <td>0.789</td>\n",
       "      <td>NaN</td>\n",
       "      <td>No relevent experience</td>\n",
       "      <td>NaN</td>\n",
       "      <td>Graduate</td>\n",
       "      <td>Business Degree</td>\n",
       "      <td>&lt;1</td>\n",
       "      <td>NaN</td>\n",
       "      <td>Pvt Ltd</td>\n",
       "      <td>never</td>\n",
       "      <td>52</td>\n",
       "      <td>1.0</td>\n",
       "    </tr>\n",
       "    <tr>\n",
       "      <th>4</th>\n",
       "      <td>666</td>\n",
       "      <td>city_162</td>\n",
       "      <td>0.767</td>\n",
       "      <td>Male</td>\n",
       "      <td>Has relevent experience</td>\n",
       "      <td>no_enrollment</td>\n",
       "      <td>Masters</td>\n",
       "      <td>STEM</td>\n",
       "      <td>&gt;20</td>\n",
       "      <td>50-99</td>\n",
       "      <td>Funded Startup</td>\n",
       "      <td>4</td>\n",
       "      <td>8</td>\n",
       "      <td>0.0</td>\n",
       "    </tr>\n",
       "  </tbody>\n",
       "</table>\n",
       "</div>"
      ],
      "text/plain": [
       "   enrollee_id      city  city_development_index gender  \\\n",
       "0         8949  city_103                   0.920   Male   \n",
       "1        29725   city_40                   0.776   Male   \n",
       "2        11561   city_21                   0.624    NaN   \n",
       "3        33241  city_115                   0.789    NaN   \n",
       "4          666  city_162                   0.767   Male   \n",
       "\n",
       "       relevent_experience enrolled_university education_level  \\\n",
       "0  Has relevent experience       no_enrollment        Graduate   \n",
       "1   No relevent experience       no_enrollment        Graduate   \n",
       "2   No relevent experience    Full time course        Graduate   \n",
       "3   No relevent experience                 NaN        Graduate   \n",
       "4  Has relevent experience       no_enrollment         Masters   \n",
       "\n",
       "  major_discipline experience company_size    company_type last_new_job  \\\n",
       "0             STEM        >20          NaN             NaN            1   \n",
       "1             STEM         15        50-99         Pvt Ltd           >4   \n",
       "2             STEM          5          NaN             NaN        never   \n",
       "3  Business Degree         <1          NaN         Pvt Ltd        never   \n",
       "4             STEM        >20        50-99  Funded Startup            4   \n",
       "\n",
       "   training_hours  target  \n",
       "0              36     1.0  \n",
       "1              47     0.0  \n",
       "2              83     0.0  \n",
       "3              52     1.0  \n",
       "4               8     0.0  "
      ]
     },
     "execution_count": 4,
     "metadata": {},
     "output_type": "execute_result"
    }
   ],
   "source": [
    "train.head()"
   ]
  },
  {
   "cell_type": "code",
   "execution_count": 5,
   "id": "9e444415",
   "metadata": {
    "papermill": {
     "duration": 0.103061,
     "end_time": "2021-11-16T09:37:08.720522",
     "exception": false,
     "start_time": "2021-11-16T09:37:08.617461",
     "status": "completed"
    },
    "tags": []
   },
   "outputs": [
    {
     "data": {
      "text/plain": [
       "(19158, 14)"
      ]
     },
     "execution_count": 5,
     "metadata": {},
     "output_type": "execute_result"
    }
   ],
   "source": [
    "train.shape"
   ]
  },
  {
   "cell_type": "code",
   "execution_count": 6,
   "id": "af5c95e0-31d6-412f-893f-fa017c12e2de",
   "metadata": {},
   "outputs": [],
   "source": [
    "train = train.drop('enrollee_id', axis = 1)"
   ]
  },
  {
   "cell_type": "code",
   "execution_count": 7,
   "id": "1e313ac9",
   "metadata": {
    "papermill": {
     "duration": 0.083328,
     "end_time": "2021-11-16T09:37:08.876760",
     "exception": false,
     "start_time": "2021-11-16T09:37:08.793432",
     "status": "completed"
    },
    "tags": []
   },
   "outputs": [
    {
     "data": {
      "text/plain": [
       "Index(['city', 'city_development_index', 'gender', 'relevent_experience',\n",
       "       'enrolled_university', 'education_level', 'major_discipline',\n",
       "       'experience', 'company_size', 'company_type', 'last_new_job',\n",
       "       'training_hours', 'target'],\n",
       "      dtype='object')"
      ]
     },
     "execution_count": 7,
     "metadata": {},
     "output_type": "execute_result"
    }
   ],
   "source": [
    "train.columns"
   ]
  },
  {
   "cell_type": "code",
   "execution_count": 8,
   "id": "4c67a0b8",
   "metadata": {
    "papermill": {
     "duration": 0.120287,
     "end_time": "2021-11-16T09:37:09.070986",
     "exception": false,
     "start_time": "2021-11-16T09:37:08.950699",
     "status": "completed"
    },
    "tags": []
   },
   "outputs": [
    {
     "name": "stdout",
     "output_type": "stream",
     "text": [
      "<class 'pandas.core.frame.DataFrame'>\n",
      "RangeIndex: 19158 entries, 0 to 19157\n",
      "Data columns (total 13 columns):\n",
      " #   Column                  Non-Null Count  Dtype  \n",
      "---  ------                  --------------  -----  \n",
      " 0   city                    19158 non-null  object \n",
      " 1   city_development_index  19158 non-null  float64\n",
      " 2   gender                  14650 non-null  object \n",
      " 3   relevent_experience     19158 non-null  object \n",
      " 4   enrolled_university     18772 non-null  object \n",
      " 5   education_level         18698 non-null  object \n",
      " 6   major_discipline        16345 non-null  object \n",
      " 7   experience              19093 non-null  object \n",
      " 8   company_size            13220 non-null  object \n",
      " 9   company_type            13018 non-null  object \n",
      " 10  last_new_job            18735 non-null  object \n",
      " 11  training_hours          19158 non-null  int64  \n",
      " 12  target                  19158 non-null  float64\n",
      "dtypes: float64(2), int64(1), object(10)\n",
      "memory usage: 1.9+ MB\n"
     ]
    }
   ],
   "source": [
    "train.info()"
   ]
  },
  {
   "cell_type": "markdown",
   "id": "a780dcb7-50f8-4e06-83f6-c3a8fda0e1e9",
   "metadata": {},
   "source": [
    "## Статистика по числовым данным"
   ]
  },
  {
   "cell_type": "code",
   "execution_count": 9,
   "id": "127f9870",
   "metadata": {
    "papermill": {
     "duration": 0.1044,
     "end_time": "2021-11-16T09:37:09.398301",
     "exception": false,
     "start_time": "2021-11-16T09:37:09.293901",
     "status": "completed"
    },
    "tags": []
   },
   "outputs": [
    {
     "data": {
      "text/html": [
       "<div>\n",
       "<style scoped>\n",
       "    .dataframe tbody tr th:only-of-type {\n",
       "        vertical-align: middle;\n",
       "    }\n",
       "\n",
       "    .dataframe tbody tr th {\n",
       "        vertical-align: top;\n",
       "    }\n",
       "\n",
       "    .dataframe thead th {\n",
       "        text-align: right;\n",
       "    }\n",
       "</style>\n",
       "<table border=\"1\" class=\"dataframe\">\n",
       "  <thead>\n",
       "    <tr style=\"text-align: right;\">\n",
       "      <th></th>\n",
       "      <th>city_development_index</th>\n",
       "      <th>training_hours</th>\n",
       "      <th>target</th>\n",
       "    </tr>\n",
       "  </thead>\n",
       "  <tbody>\n",
       "    <tr>\n",
       "      <th>count</th>\n",
       "      <td>19158.000000</td>\n",
       "      <td>19158.000000</td>\n",
       "      <td>19158.000000</td>\n",
       "    </tr>\n",
       "    <tr>\n",
       "      <th>mean</th>\n",
       "      <td>0.828848</td>\n",
       "      <td>65.366896</td>\n",
       "      <td>0.249348</td>\n",
       "    </tr>\n",
       "    <tr>\n",
       "      <th>std</th>\n",
       "      <td>0.123362</td>\n",
       "      <td>60.058462</td>\n",
       "      <td>0.432647</td>\n",
       "    </tr>\n",
       "    <tr>\n",
       "      <th>min</th>\n",
       "      <td>0.448000</td>\n",
       "      <td>1.000000</td>\n",
       "      <td>0.000000</td>\n",
       "    </tr>\n",
       "    <tr>\n",
       "      <th>25%</th>\n",
       "      <td>0.740000</td>\n",
       "      <td>23.000000</td>\n",
       "      <td>0.000000</td>\n",
       "    </tr>\n",
       "    <tr>\n",
       "      <th>50%</th>\n",
       "      <td>0.903000</td>\n",
       "      <td>47.000000</td>\n",
       "      <td>0.000000</td>\n",
       "    </tr>\n",
       "    <tr>\n",
       "      <th>75%</th>\n",
       "      <td>0.920000</td>\n",
       "      <td>88.000000</td>\n",
       "      <td>0.000000</td>\n",
       "    </tr>\n",
       "    <tr>\n",
       "      <th>max</th>\n",
       "      <td>0.949000</td>\n",
       "      <td>336.000000</td>\n",
       "      <td>1.000000</td>\n",
       "    </tr>\n",
       "  </tbody>\n",
       "</table>\n",
       "</div>"
      ],
      "text/plain": [
       "       city_development_index  training_hours        target\n",
       "count            19158.000000    19158.000000  19158.000000\n",
       "mean                 0.828848       65.366896      0.249348\n",
       "std                  0.123362       60.058462      0.432647\n",
       "min                  0.448000        1.000000      0.000000\n",
       "25%                  0.740000       23.000000      0.000000\n",
       "50%                  0.903000       47.000000      0.000000\n",
       "75%                  0.920000       88.000000      0.000000\n",
       "max                  0.949000      336.000000      1.000000"
      ]
     },
     "execution_count": 9,
     "metadata": {},
     "output_type": "execute_result"
    }
   ],
   "source": [
    "train.describe()"
   ]
  },
  {
   "cell_type": "markdown",
   "id": "180cad28-38bd-40f9-a6cf-d1d9912ec38e",
   "metadata": {},
   "source": [
    "## City"
   ]
  },
  {
   "cell_type": "code",
   "execution_count": 10,
   "id": "03c0333a-c54d-4932-a55a-6c4075f2d9a1",
   "metadata": {},
   "outputs": [
    {
     "name": "stdout",
     "output_type": "stream",
     "text": [
      "0 не имеют значения\n"
     ]
    }
   ],
   "source": [
    "print(train['city'].isna().sum(), 'не имеют значения')"
   ]
  },
  {
   "cell_type": "code",
   "execution_count": 11,
   "id": "8265e96a-aacc-40e5-9ad6-7400a2d292dc",
   "metadata": {},
   "outputs": [
    {
     "name": "stdout",
     "output_type": "stream",
     "text": [
      "Всего 123 уникальных города\n"
     ]
    }
   ],
   "source": [
    "print(\"Всего\", len(train['city'].unique()), 'уникальных города')"
   ]
  },
  {
   "cell_type": "markdown",
   "id": "b2574835-e45c-482c-8306-1dd4840e282d",
   "metadata": {},
   "source": [
    "## Gender"
   ]
  },
  {
   "cell_type": "code",
   "execution_count": 12,
   "id": "028023fd-5383-4e6d-b777-61075d3d16f2",
   "metadata": {},
   "outputs": [
    {
     "name": "stdout",
     "output_type": "stream",
     "text": [
      "4508 не имеют значения\n"
     ]
    }
   ],
   "source": [
    "print(train['gender'].isna().sum(), 'не имеют значения')"
   ]
  },
  {
   "cell_type": "code",
   "execution_count": 13,
   "id": "28a9e5c3-e467-4252-bd2b-301f68648e60",
   "metadata": {},
   "outputs": [
    {
     "name": "stdout",
     "output_type": "stream",
     "text": [
      "{'Male': 13221, 'Female': 1238, 'Other': 191}\n"
     ]
    },
    {
     "data": {
      "text/plain": [
       "<BarContainer object of 3 artists>"
      ]
     },
     "execution_count": 13,
     "metadata": {},
     "output_type": "execute_result"
    },
    {
     "data": {
      "image/png": "[encoded data removed]",
      "text/plain": [
       "<Figure size 720x576 with 1 Axes>"
      ]
     },
     "metadata": {
      "needs_background": "light"
     },
     "output_type": "display_data"
    }
   ],
   "source": [
    "gender_data = {}\n",
    "for gender in train[train['gender'].notna()]['gender'].unique():\n",
    "    gender_data[gender] = train[train['gender'] == gender].shape[0]\n",
    "print(gender_data)\n",
    "plt.bar(gender_data.keys(), gender_data.values())"
   ]
  },
  {
   "cell_type": "markdown",
   "id": "c8dab837-a690-40f8-ade2-9db4b960737a",
   "metadata": {},
   "source": [
    "## Relevent_experience"
   ]
  },
  {
   "cell_type": "code",
   "execution_count": 14,
   "id": "40305574-ec35-450f-87a9-4a59d2d26f82",
   "metadata": {},
   "outputs": [
    {
     "name": "stdout",
     "output_type": "stream",
     "text": [
      "0 не имеют значения\n"
     ]
    }
   ],
   "source": [
    "print(train['relevent_experience'].isna().sum(), 'не имеют значения')"
   ]
  },
  {
   "cell_type": "code",
   "execution_count": 15,
   "id": "6c65e300-f371-44fc-86a1-c287ce9a48ed",
   "metadata": {},
   "outputs": [
    {
     "name": "stdout",
     "output_type": "stream",
     "text": [
      "{'Has relevent experience': 13792, 'No relevent experience': 5366}\n"
     ]
    },
    {
     "data": {
      "text/plain": [
       "<BarContainer object of 2 artists>"
      ]
     },
     "execution_count": 15,
     "metadata": {},
     "output_type": "execute_result"
    },
    {
     "data": {
      "image/png": "[encoded data removed]",
      "text/plain": [
       "<Figure size 720x576 with 1 Axes>"
      ]
     },
     "metadata": {
      "needs_background": "light"
     },
     "output_type": "display_data"
    }
   ],
   "source": [
    "relevent_experience_data = {}\n",
    "for relevent_experience in train[train['relevent_experience'].notna()]['relevent_experience'].unique():\n",
    "    relevent_experience_data[relevent_experience] = train[train['relevent_experience'] == relevent_experience].shape[0]\n",
    "print(relevent_experience_data)\n",
    "plt.bar(relevent_experience_data.keys(), relevent_experience_data.values())"
   ]
  },
  {
   "cell_type": "markdown",
   "id": "00d6bcce-f504-4313-9158-da4019a52654",
   "metadata": {},
   "source": [
    "## Enrolled_university"
   ]
  },
  {
   "cell_type": "code",
   "execution_count": 16,
   "id": "0eecc647-dfe2-4b7a-9681-ec0ffddd649e",
   "metadata": {},
   "outputs": [
    {
     "name": "stdout",
     "output_type": "stream",
     "text": [
      "386 не имеют значения\n"
     ]
    }
   ],
   "source": [
    "print(train['enrolled_university'].isna().sum(), 'не имеют значения')"
   ]
  },
  {
   "cell_type": "code",
   "execution_count": 17,
   "id": "d0e2b292-738d-4417-8b8e-40ef20030d6d",
   "metadata": {},
   "outputs": [
    {
     "name": "stdout",
     "output_type": "stream",
     "text": [
      "{'no_enrollment': 13817, 'Full time course': 3757, 'Part time course': 1198}\n"
     ]
    },
    {
     "data": {
      "text/plain": [
       "<BarContainer object of 3 artists>"
      ]
     },
     "execution_count": 17,
     "metadata": {},
     "output_type": "execute_result"
    },
    {
     "data": {
      "image/png": "[encoded data removed]",
      "text/plain": [
       "<Figure size 720x576 with 1 Axes>"
      ]
     },
     "metadata": {
      "needs_background": "light"
     },
     "output_type": "display_data"
    }
   ],
   "source": [
    "enrolled_university_data = {}\n",
    "for enrolled_university in train[train['enrolled_university'].notna()]['enrolled_university'].unique():\n",
    "    enrolled_university_data[enrolled_university] = train[train['enrolled_university'] == enrolled_university].shape[0]\n",
    "print(enrolled_university_data)\n",
    "plt.bar(enrolled_university_data.keys(), enrolled_university_data.values())"
   ]
  },
  {
   "cell_type": "markdown",
   "id": "0068a5a2-ac8a-4a40-8edb-480179b7a751",
   "metadata": {},
   "source": [
    "## Education_level"
   ]
  },
  {
   "cell_type": "code",
   "execution_count": 18,
   "id": "3eafb0b1-94df-452f-8490-88bce0e11b2f",
   "metadata": {},
   "outputs": [
    {
     "name": "stdout",
     "output_type": "stream",
     "text": [
      "460 не имеют значения\n"
     ]
    }
   ],
   "source": [
    "print(train['education_level'].isna().sum(), 'не имеют значения')"
   ]
  },
  {
   "cell_type": "code",
   "execution_count": 19,
   "id": "2030d83b-6a85-4bf1-9c18-784e22560b10",
   "metadata": {},
   "outputs": [
    {
     "name": "stdout",
     "output_type": "stream",
     "text": [
      "{'Graduate': 11598, 'Masters': 4361, 'High School': 2017, 'Phd': 414, 'Primary School': 308}\n"
     ]
    },
    {
     "data": {
      "text/plain": [
       "<BarContainer object of 5 artists>"
      ]
     },
     "execution_count": 19,
     "metadata": {},
     "output_type": "execute_result"
    },
    {
     "data": {
      "image/png": "[encoded data removed]",
      "text/plain": [
       "<Figure size 720x576 with 1 Axes>"
      ]
     },
     "metadata": {
      "needs_background": "light"
     },
     "output_type": "display_data"
    }
   ],
   "source": [
    "education_level_data = {}\n",
    "for education_level in train[train['education_level'].notna()]['education_level'].unique():\n",
    "    education_level_data[education_level] = train[train['education_level'] == education_level].shape[0]\n",
    "print(education_level_data)\n",
    "plt.bar(education_level_data.keys(), education_level_data.values())"
   ]
  },
  {
   "cell_type": "markdown",
   "id": "ad2e1e01-6a10-4b77-81e7-f24f14b34497",
   "metadata": {},
   "source": [
    "## Major_discipline"
   ]
  },
  {
   "cell_type": "code",
   "execution_count": 20,
   "id": "3e88f77b-5458-4e5b-b489-7705879cd0bb",
   "metadata": {},
   "outputs": [
    {
     "name": "stdout",
     "output_type": "stream",
     "text": [
      "2813 не имеют значения\n"
     ]
    }
   ],
   "source": [
    "print(train['major_discipline'].isna().sum(), 'не имеют значения')"
   ]
  },
  {
   "cell_type": "code",
   "execution_count": 21,
   "id": "e749f202-b5c0-4167-a7c9-7b850e834b7f",
   "metadata": {},
   "outputs": [
    {
     "name": "stdout",
     "output_type": "stream",
     "text": [
      "{'STEM': 14492, 'Business Degree': 327, 'Arts': 253, 'Humanities': 669, 'No Major': 223, 'Other': 381}\n"
     ]
    },
    {
     "data": {
      "text/plain": [
       "<BarContainer object of 6 artists>"
      ]
     },
     "execution_count": 21,
     "metadata": {},
     "output_type": "execute_result"
    },
    {
     "data": {
      "image/png": "[encoded data removed]",
      "text/plain": [
       "<Figure size 720x576 with 1 Axes>"
      ]
     },
     "metadata": {
      "needs_background": "light"
     },
     "output_type": "display_data"
    }
   ],
   "source": [
    "major_discipline_data = {}\n",
    "for major_discipline in train[train['major_discipline'].notna()]['major_discipline'].unique():\n",
    "    major_discipline_data[major_discipline] = train[train['major_discipline'] == major_discipline].shape[0]\n",
    "print(major_discipline_data)\n",
    "plt.bar(major_discipline_data.keys(), major_discipline_data.values())"
   ]
  },
  {
   "cell_type": "markdown",
   "id": "3a2b3990-a693-4eff-9128-bfe9072d7b62",
   "metadata": {},
   "source": [
    "## Experience"
   ]
  },
  {
   "cell_type": "code",
   "execution_count": 22,
   "id": "c3744db6-c0e6-4d97-9153-1722792e41b0",
   "metadata": {},
   "outputs": [
    {
     "name": "stdout",
     "output_type": "stream",
     "text": [
      "65 не имеют значения\n"
     ]
    }
   ],
   "source": [
    "print(train['experience'].isna().sum(), 'не имеют значения')"
   ]
  },
  {
   "cell_type": "code",
   "execution_count": 23,
   "id": "69cc73b6-0fd6-43ca-ae8e-7a874680b929",
   "metadata": {},
   "outputs": [
    {
     "name": "stdout",
     "output_type": "stream",
     "text": [
      "{'>20': 3286, '15': 686, '5': 1430, '<1': 522, '11': 664, '13': 399, '7': 1028, '17': 342, '2': 1127, '16': 508, '1': 549, '4': 1403, '10': 985, '14': 586, '18': 280, '19': 304, '12': 494, '3': 1354, '6': 1216, '9': 980, '8': 802, '20': 148}\n"
     ]
    },
    {
     "data": {
      "text/plain": [
       "<BarContainer object of 22 artists>"
      ]
     },
     "execution_count": 23,
     "metadata": {},
     "output_type": "execute_result"
    },
    {
     "data": {
      "image/png": "[encoded data removed]",
      "text/plain": [
       "<Figure size 720x576 with 1 Axes>"
      ]
     },
     "metadata": {
      "needs_background": "light"
     },
     "output_type": "display_data"
    }
   ],
   "source": [
    "experience_data = {}\n",
    "for experience in train[train['experience'].notna()]['experience'].unique():\n",
    "    experience_data[experience] = train[train['experience'] == experience].shape[0]\n",
    "print(experience_data)\n",
    "plt.bar(experience_data.keys(), experience_data.values())"
   ]
  },
  {
   "cell_type": "markdown",
   "id": "55eb1903-079b-4826-aac5-e6566c5e98b2",
   "metadata": {},
   "source": [
    "## Company_size"
   ]
  },
  {
   "cell_type": "code",
   "execution_count": 24,
   "id": "0b0a60c2-c630-44e8-b92d-069909aab2a7",
   "metadata": {},
   "outputs": [
    {
     "name": "stdout",
     "output_type": "stream",
     "text": [
      "5938 не имеют значения\n"
     ]
    }
   ],
   "source": [
    "print(train['company_size'].isna().sum(), 'не имеют значения')"
   ]
  },
  {
   "cell_type": "code",
   "execution_count": 25,
   "id": "b36d0c26-6df0-4c68-b5f3-13f775c54241",
   "metadata": {},
   "outputs": [
    {
     "name": "stdout",
     "output_type": "stream",
     "text": [
      "{'50-99': 3083, '<10': 1308, '10000+': 2019, '5000-9999': 563, '1000-4999': 1328, '10/49': 1471, '100-500': 2571, '500-999': 877}\n"
     ]
    },
    {
     "data": {
      "text/plain": [
       "<BarContainer object of 8 artists>"
      ]
     },
     "execution_count": 25,
     "metadata": {},
     "output_type": "execute_result"
    },
    {
     "data": {
      "image/png": "[encoded data removed]",
      "text/plain": [
       "<Figure size 720x576 with 1 Axes>"
      ]
     },
     "metadata": {
      "needs_background": "light"
     },
     "output_type": "display_data"
    }
   ],
   "source": [
    "company_size_data = {}\n",
    "for company_size in train[train['company_size'].notna()]['company_size'].unique():\n",
    "    company_size_data[company_size] = train[train['company_size'] == company_size].shape[0]\n",
    "print(company_size_data)\n",
    "plt.bar(company_size_data.keys(), company_size_data.values())"
   ]
  },
  {
   "cell_type": "markdown",
   "id": "4b254007-2126-4840-a898-d6a5a67e2f11",
   "metadata": {},
   "source": [
    "# Company_type"
   ]
  },
  {
   "cell_type": "code",
   "execution_count": 26,
   "id": "f57c9fb7-e635-461d-8fc6-cc50613e7a7f",
   "metadata": {},
   "outputs": [
    {
     "name": "stdout",
     "output_type": "stream",
     "text": [
      "6140 не имеют значения\n"
     ]
    }
   ],
   "source": [
    "print(train['company_type'].isna().sum(), 'не имеют значения')"
   ]
  },
  {
   "cell_type": "code",
   "execution_count": 27,
   "id": "1c62c363-3289-4086-8a8f-164fbf515e94",
   "metadata": {},
   "outputs": [
    {
     "name": "stdout",
     "output_type": "stream",
     "text": [
      "{'Pvt Ltd': 9817, 'Funded Startup': 1001, 'Early Stage Startup': 603, 'Other': 121, 'Public Sector': 955, 'NGO': 521}\n"
     ]
    },
    {
     "data": {
      "text/plain": [
       "<BarContainer object of 6 artists>"
      ]
     },
     "execution_count": 27,
     "metadata": {},
     "output_type": "execute_result"
    },
    {
     "data": {
      "image/png": "[encoded data removed]",
      "text/plain": [
       "<Figure size 720x576 with 1 Axes>"
      ]
     },
     "metadata": {
      "needs_background": "light"
     },
     "output_type": "display_data"
    }
   ],
   "source": [
    "company_type_data = {}\n",
    "for company_type in train[train['company_type'].notna()]['company_type'].unique():\n",
    "    company_type_data[company_type] = train[train['company_type'] == company_type].shape[0]\n",
    "print(company_type_data)\n",
    "plt.bar(company_type_data.keys(), company_type_data.values())"
   ]
  },
  {
   "cell_type": "markdown",
   "id": "a75d16bc-92ea-4d04-b81b-66075014560d",
   "metadata": {},
   "source": [
    "# Last_new_job"
   ]
  },
  {
   "cell_type": "code",
   "execution_count": 28,
   "id": "f2ad61a5-29a7-4763-bbea-d8a8f5b09d7f",
   "metadata": {},
   "outputs": [
    {
     "name": "stdout",
     "output_type": "stream",
     "text": [
      "423 не имеют значения\n"
     ]
    }
   ],
   "source": [
    "print(train['last_new_job'].isna().sum(), 'не имеют значения')"
   ]
  },
  {
   "cell_type": "code",
   "execution_count": 29,
   "id": "cbbe91a1-28d6-415b-9dc7-240abbd5c0ff",
   "metadata": {},
   "outputs": [
    {
     "name": "stdout",
     "output_type": "stream",
     "text": [
      "{'1': 8040, '>4': 3290, 'never': 2452, '4': 1029, '3': 1024, '2': 2900}\n"
     ]
    },
    {
     "data": {
      "text/plain": [
       "<BarContainer object of 6 artists>"
      ]
     },
     "execution_count": 29,
     "metadata": {},
     "output_type": "execute_result"
    },
    {
     "data": {
      "image/png": "[encoded data removed]",
      "text/plain": [
       "<Figure size 720x576 with 1 Axes>"
      ]
     },
     "metadata": {
      "needs_background": "light"
     },
     "output_type": "display_data"
    }
   ],
   "source": [
    "last_new_job_data = {}\n",
    "for last_new_job in train[train['last_new_job'].notna()]['last_new_job'].unique():\n",
    "    last_new_job_data[last_new_job] = train[train['last_new_job'] == last_new_job].shape[0]\n",
    "print(last_new_job_data)\n",
    "plt.bar(last_new_job_data.keys(), last_new_job_data.values())"
   ]
  },
  {
   "cell_type": "markdown",
   "id": "71b5ac98-a303-45bd-811e-943953fba9be",
   "metadata": {},
   "source": [
    "# Target"
   ]
  },
  {
   "cell_type": "code",
   "execution_count": 30,
   "id": "820e2d04-709a-44b1-ac16-8e48bfd702c0",
   "metadata": {},
   "outputs": [
    {
     "name": "stdout",
     "output_type": "stream",
     "text": [
      "0 не имеют значения\n"
     ]
    }
   ],
   "source": [
    "print(train['target'].isna().sum(), 'не имеют значения')"
   ]
  },
  {
   "cell_type": "code",
   "execution_count": 31,
   "id": "31f2688f-ff24-49fb-a1f2-42541f5db1b0",
   "metadata": {},
   "outputs": [
    {
     "name": "stdout",
     "output_type": "stream",
     "text": [
      "{1.0: 4777, 0.0: 14381}\n"
     ]
    },
    {
     "data": {
      "text/plain": [
       "<BarContainer object of 2 artists>"
      ]
     },
     "execution_count": 31,
     "metadata": {},
     "output_type": "execute_result"
    },
    {
     "data": {
      "image/png": "[encoded data removed]",
      "text/plain": [
       "<Figure size 720x576 with 1 Axes>"
      ]
     },
     "metadata": {
      "needs_background": "light"
     },
     "output_type": "display_data"
    }
   ],
   "source": [
    "target_data = {}\n",
    "for target in train[train['target'].notna()]['target'].unique():\n",
    "    target_data[target] = train[train['target'] == target].shape[0]\n",
    "print(target_data)\n",
    "plt.bar(target_data.keys(), target_data.values())"
   ]
  },
  {
   "cell_type": "code",
   "execution_count": null,
   "id": "96e45eb7",
   "metadata": {},
   "outputs": [],
   "source": [
    "# Здесь видим, что набор данных несбалансированный.\n",
    "# Примеров тех, кто не ищет работу,  в 3 раза больше, чем примеров тех, кто не ищет"
   ]
  },
  {
   "cell_type": "markdown",
   "id": "7a403c06",
   "metadata": {
    "papermill": {
     "duration": 0.088195,
     "end_time": "2021-11-16T09:37:24.441464",
     "exception": false,
     "start_time": "2021-11-16T09:37:24.353269",
     "status": "completed"
    },
    "tags": []
   },
   "source": [
    "# Очистка данных. Замена пустых значений"
   ]
  },
  {
   "cell_type": "code",
   "execution_count": 32,
   "id": "8c89119d-8416-441a-80a5-26c798b7534b",
   "metadata": {},
   "outputs": [
    {
     "name": "stdout",
     "output_type": "stream",
     "text": [
      "4508 не имеют значения\n",
      "0 не имеют значения\n"
     ]
    }
   ],
   "source": [
    "print(train['gender'].isna().sum(), 'не имеют значения')\n",
    "train['gender'] = train['gender'].fillna('Unknown_gender') \n",
    "print(train['gender'].isna().sum(), 'не имеют значения')"
   ]
  },
  {
   "cell_type": "code",
   "execution_count": 33,
   "id": "2eb56460-d1fa-4192-8dd3-705b6299ee81",
   "metadata": {},
   "outputs": [
    {
     "name": "stdout",
     "output_type": "stream",
     "text": [
      "386 не имеют значения\n",
      "0 не имеют значения\n"
     ]
    }
   ],
   "source": [
    "print(train['enrolled_university'].isna().sum(), 'не имеют значения')\n",
    "train['enrolled_university'] = train['enrolled_university'].fillna('Unknown_enrolled_university') \n",
    "print(train['enrolled_university'].isna().sum(), 'не имеют значения')"
   ]
  },
  {
   "cell_type": "code",
   "execution_count": 34,
   "id": "b0686d86-8431-494f-a939-ed6f6f2a4fde",
   "metadata": {},
   "outputs": [
    {
     "name": "stdout",
     "output_type": "stream",
     "text": [
      "460 не имеют значения\n",
      "0 не имеют значения\n"
     ]
    }
   ],
   "source": [
    "print(train['education_level'].isna().sum(), 'не имеют значения')\n",
    "train['education_level'] = train['education_level'].fillna('Unknown_education_level') \n",
    "print(train['education_level'].isna().sum(), 'не имеют значения')"
   ]
  },
  {
   "cell_type": "code",
   "execution_count": 35,
   "id": "54181b7f-3e73-4021-8334-ff041b6d08ab",
   "metadata": {},
   "outputs": [
    {
     "name": "stdout",
     "output_type": "stream",
     "text": [
      "2813 не имеют значения\n",
      "0 не имеют значения\n"
     ]
    }
   ],
   "source": [
    "print(train['major_discipline'].isna().sum(), 'не имеют значения')\n",
    "train['major_discipline'] = train['major_discipline'].fillna('Unknown_major_discipline') \n",
    "print(train['major_discipline'].isna().sum(), 'не имеют значения')"
   ]
  },
  {
   "cell_type": "code",
   "execution_count": 36,
   "id": "b83bfa15-fa66-4873-9c79-864c111c9386",
   "metadata": {},
   "outputs": [
    {
     "name": "stdout",
     "output_type": "stream",
     "text": [
      "65 не имеют значения\n",
      "0 не имеют значения\n"
     ]
    }
   ],
   "source": [
    "print(train['experience'].isna().sum(), 'не имеют значения')\n",
    "train['experience'] = train['experience'].fillna('Unknown_experience') \n",
    "print(train['experience'].isna().sum(), 'не имеют значения')"
   ]
  },
  {
   "cell_type": "code",
   "execution_count": 37,
   "id": "f402cb1c",
   "metadata": {
    "papermill": {
     "duration": 0.106932,
     "end_time": "2021-11-16T09:37:30.299016",
     "exception": false,
     "start_time": "2021-11-16T09:37:30.192084",
     "status": "completed"
    },
    "tags": []
   },
   "outputs": [
    {
     "name": "stdout",
     "output_type": "stream",
     "text": [
      "5938 не имеют значения\n",
      "0 не имеют значения\n"
     ]
    }
   ],
   "source": [
    "print(train['company_size'].isna().sum(), 'не имеют значения')\n",
    "train['company_size'] = train['company_size'].fillna('Unknown_company_size') \n",
    "print(train['company_size'].isna().sum(), 'не имеют значения')"
   ]
  },
  {
   "cell_type": "code",
   "execution_count": 38,
   "id": "cc23093a-3615-4b3d-a72e-52c1b8db1d5a",
   "metadata": {},
   "outputs": [
    {
     "name": "stdout",
     "output_type": "stream",
     "text": [
      "6140 не имеют значения\n",
      "0 не имеют значения\n"
     ]
    }
   ],
   "source": [
    "print(train['company_type'].isna().sum(), 'не имеют значения')\n",
    "train['company_type'] = train['company_type'].fillna('Unknown_company_type') \n",
    "print(train['company_type'].isna().sum(), 'не имеют значения')"
   ]
  },
  {
   "cell_type": "code",
   "execution_count": 39,
   "id": "0e13086f",
   "metadata": {
    "papermill": {
     "duration": 0.107087,
     "end_time": "2021-11-16T09:37:32.562715",
     "exception": false,
     "start_time": "2021-11-16T09:37:32.455628",
     "status": "completed"
    },
    "tags": []
   },
   "outputs": [
    {
     "name": "stdout",
     "output_type": "stream",
     "text": [
      "423 не имеют значения\n",
      "0 не имеют значения\n"
     ]
    }
   ],
   "source": [
    "print(train['last_new_job'].isna().sum(), 'не имеют значения')\n",
    "train['last_new_job'] = train['last_new_job'].fillna('Unknown_last_new_job') \n",
    "print(train['last_new_job'].isna().sum(), 'не имеют значения')"
   ]
  },
  {
   "cell_type": "code",
   "execution_count": 40,
   "id": "34687c07",
   "metadata": {
    "papermill": {
     "duration": 0.109019,
     "end_time": "2021-11-16T09:37:34.812527",
     "exception": false,
     "start_time": "2021-11-16T09:37:34.703508",
     "status": "completed"
    },
    "tags": []
   },
   "outputs": [
    {
     "data": {
      "text/plain": [
       "city                      0\n",
       "city_development_index    0\n",
       "gender                    0\n",
       "relevent_experience       0\n",
       "enrolled_university       0\n",
       "education_level           0\n",
       "major_discipline          0\n",
       "experience                0\n",
       "company_size              0\n",
       "company_type              0\n",
       "last_new_job              0\n",
       "training_hours            0\n",
       "target                    0\n",
       "dtype: int64"
      ]
     },
     "execution_count": 40,
     "metadata": {},
     "output_type": "execute_result"
    }
   ],
   "source": [
    "train.isna().sum()"
   ]
  },
  {
   "cell_type": "code",
   "execution_count": 41,
   "id": "07356268-6582-4444-920d-ef4123ee35ec",
   "metadata": {},
   "outputs": [],
   "source": [
    "# Заменяем текстовые значения цифрами \n",
    "for col in train.columns:\n",
    "    if train[col].dtype == \"object\":\n",
    "        train[col] = LabelEncoder().fit_transform(train[col])"
   ]
  },
  {
   "cell_type": "code",
   "execution_count": 42,
   "id": "29ecd3fd-a0f3-4e3f-9df7-444e319b04f1",
   "metadata": {},
   "outputs": [
    {
     "data": {
      "text/html": [
       "<div>\n",
       "<style scoped>\n",
       "    .dataframe tbody tr th:only-of-type {\n",
       "        vertical-align: middle;\n",
       "    }\n",
       "\n",
       "    .dataframe tbody tr th {\n",
       "        vertical-align: top;\n",
       "    }\n",
       "\n",
       "    .dataframe thead th {\n",
       "        text-align: right;\n",
       "    }\n",
       "</style>\n",
       "<table border=\"1\" class=\"dataframe\">\n",
       "  <thead>\n",
       "    <tr style=\"text-align: right;\">\n",
       "      <th></th>\n",
       "      <th>city</th>\n",
       "      <th>city_development_index</th>\n",
       "      <th>gender</th>\n",
       "      <th>relevent_experience</th>\n",
       "      <th>enrolled_university</th>\n",
       "      <th>education_level</th>\n",
       "      <th>major_discipline</th>\n",
       "      <th>experience</th>\n",
       "      <th>company_size</th>\n",
       "      <th>company_type</th>\n",
       "      <th>last_new_job</th>\n",
       "      <th>training_hours</th>\n",
       "      <th>target</th>\n",
       "    </tr>\n",
       "  </thead>\n",
       "  <tbody>\n",
       "    <tr>\n",
       "      <th>city</th>\n",
       "      <td>1.000000</td>\n",
       "      <td>-0.326104</td>\n",
       "      <td>0.049546</td>\n",
       "      <td>0.006154</td>\n",
       "      <td>-0.079245</td>\n",
       "      <td>0.006448</td>\n",
       "      <td>0.105038</td>\n",
       "      <td>-0.042545</td>\n",
       "      <td>0.026963</td>\n",
       "      <td>0.019465</td>\n",
       "      <td>0.001763</td>\n",
       "      <td>0.009537</td>\n",
       "      <td>0.056233</td>\n",
       "    </tr>\n",
       "    <tr>\n",
       "      <th>city_development_index</th>\n",
       "      <td>-0.326104</td>\n",
       "      <td>1.000000</td>\n",
       "      <td>-0.154868</td>\n",
       "      <td>-0.059808</td>\n",
       "      <td>0.171612</td>\n",
       "      <td>0.039749</td>\n",
       "      <td>-0.101260</td>\n",
       "      <td>0.035141</td>\n",
       "      <td>-0.056537</td>\n",
       "      <td>-0.030946</td>\n",
       "      <td>-0.024093</td>\n",
       "      <td>0.001920</td>\n",
       "      <td>-0.341665</td>\n",
       "    </tr>\n",
       "    <tr>\n",
       "      <th>gender</th>\n",
       "      <td>0.049546</td>\n",
       "      <td>-0.154868</td>\n",
       "      <td>1.000000</td>\n",
       "      <td>0.099137</td>\n",
       "      <td>-0.104901</td>\n",
       "      <td>0.059195</td>\n",
       "      <td>0.065875</td>\n",
       "      <td>0.001815</td>\n",
       "      <td>0.061470</td>\n",
       "      <td>0.044373</td>\n",
       "      <td>0.067027</td>\n",
       "      <td>0.001057</td>\n",
       "      <td>0.067676</td>\n",
       "    </tr>\n",
       "    <tr>\n",
       "      <th>relevent_experience</th>\n",
       "      <td>0.006154</td>\n",
       "      <td>-0.059808</td>\n",
       "      <td>0.099137</td>\n",
       "      <td>1.000000</td>\n",
       "      <td>-0.375810</td>\n",
       "      <td>0.111214</td>\n",
       "      <td>0.095723</td>\n",
       "      <td>-0.008235</td>\n",
       "      <td>0.343754</td>\n",
       "      <td>0.188282</td>\n",
       "      <td>0.228555</td>\n",
       "      <td>-0.011566</td>\n",
       "      <td>0.128430</td>\n",
       "    </tr>\n",
       "    <tr>\n",
       "      <th>enrolled_university</th>\n",
       "      <td>-0.079245</td>\n",
       "      <td>0.171612</td>\n",
       "      <td>-0.104901</td>\n",
       "      <td>-0.375810</td>\n",
       "      <td>1.000000</td>\n",
       "      <td>0.056155</td>\n",
       "      <td>-0.146363</td>\n",
       "      <td>0.024657</td>\n",
       "      <td>-0.208255</td>\n",
       "      <td>-0.093797</td>\n",
       "      <td>-0.050627</td>\n",
       "      <td>0.002530</td>\n",
       "      <td>-0.149475</td>\n",
       "    </tr>\n",
       "    <tr>\n",
       "      <th>education_level</th>\n",
       "      <td>0.006448</td>\n",
       "      <td>0.039749</td>\n",
       "      <td>0.059195</td>\n",
       "      <td>0.111214</td>\n",
       "      <td>0.056155</td>\n",
       "      <td>1.000000</td>\n",
       "      <td>0.190048</td>\n",
       "      <td>0.015183</td>\n",
       "      <td>0.084057</td>\n",
       "      <td>0.036840</td>\n",
       "      <td>0.121864</td>\n",
       "      <td>-0.005852</td>\n",
       "      <td>-0.075754</td>\n",
       "    </tr>\n",
       "    <tr>\n",
       "      <th>major_discipline</th>\n",
       "      <td>0.105038</td>\n",
       "      <td>-0.101260</td>\n",
       "      <td>0.065875</td>\n",
       "      <td>0.095723</td>\n",
       "      <td>-0.146363</td>\n",
       "      <td>0.190048</td>\n",
       "      <td>1.000000</td>\n",
       "      <td>-0.004304</td>\n",
       "      <td>0.073814</td>\n",
       "      <td>0.059102</td>\n",
       "      <td>0.096016</td>\n",
       "      <td>0.007497</td>\n",
       "      <td>-0.005513</td>\n",
       "    </tr>\n",
       "    <tr>\n",
       "      <th>experience</th>\n",
       "      <td>-0.042545</td>\n",
       "      <td>0.035141</td>\n",
       "      <td>0.001815</td>\n",
       "      <td>-0.008235</td>\n",
       "      <td>0.024657</td>\n",
       "      <td>0.015183</td>\n",
       "      <td>-0.004304</td>\n",
       "      <td>1.000000</td>\n",
       "      <td>0.029439</td>\n",
       "      <td>0.017863</td>\n",
       "      <td>0.056310</td>\n",
       "      <td>-0.005202</td>\n",
       "      <td>-0.006335</td>\n",
       "    </tr>\n",
       "    <tr>\n",
       "      <th>company_size</th>\n",
       "      <td>0.026963</td>\n",
       "      <td>-0.056537</td>\n",
       "      <td>0.061470</td>\n",
       "      <td>0.343754</td>\n",
       "      <td>-0.208255</td>\n",
       "      <td>0.084057</td>\n",
       "      <td>0.073814</td>\n",
       "      <td>0.029439</td>\n",
       "      <td>1.000000</td>\n",
       "      <td>0.341661</td>\n",
       "      <td>0.194668</td>\n",
       "      <td>-0.003124</td>\n",
       "      <td>0.186114</td>\n",
       "    </tr>\n",
       "    <tr>\n",
       "      <th>company_type</th>\n",
       "      <td>0.019465</td>\n",
       "      <td>-0.030946</td>\n",
       "      <td>0.044373</td>\n",
       "      <td>0.188282</td>\n",
       "      <td>-0.093797</td>\n",
       "      <td>0.036840</td>\n",
       "      <td>0.059102</td>\n",
       "      <td>0.017863</td>\n",
       "      <td>0.341661</td>\n",
       "      <td>1.000000</td>\n",
       "      <td>0.171732</td>\n",
       "      <td>-0.013025</td>\n",
       "      <td>0.118226</td>\n",
       "    </tr>\n",
       "    <tr>\n",
       "      <th>last_new_job</th>\n",
       "      <td>0.001763</td>\n",
       "      <td>-0.024093</td>\n",
       "      <td>0.067027</td>\n",
       "      <td>0.228555</td>\n",
       "      <td>-0.050627</td>\n",
       "      <td>0.121864</td>\n",
       "      <td>0.096016</td>\n",
       "      <td>0.056310</td>\n",
       "      <td>0.194668</td>\n",
       "      <td>0.171732</td>\n",
       "      <td>1.000000</td>\n",
       "      <td>-0.012885</td>\n",
       "      <td>-0.001687</td>\n",
       "    </tr>\n",
       "    <tr>\n",
       "      <th>training_hours</th>\n",
       "      <td>0.009537</td>\n",
       "      <td>0.001920</td>\n",
       "      <td>0.001057</td>\n",
       "      <td>-0.011566</td>\n",
       "      <td>0.002530</td>\n",
       "      <td>-0.005852</td>\n",
       "      <td>0.007497</td>\n",
       "      <td>-0.005202</td>\n",
       "      <td>-0.003124</td>\n",
       "      <td>-0.013025</td>\n",
       "      <td>-0.012885</td>\n",
       "      <td>1.000000</td>\n",
       "      <td>-0.021577</td>\n",
       "    </tr>\n",
       "    <tr>\n",
       "      <th>target</th>\n",
       "      <td>0.056233</td>\n",
       "      <td>-0.341665</td>\n",
       "      <td>0.067676</td>\n",
       "      <td>0.128430</td>\n",
       "      <td>-0.149475</td>\n",
       "      <td>-0.075754</td>\n",
       "      <td>-0.005513</td>\n",
       "      <td>-0.006335</td>\n",
       "      <td>0.186114</td>\n",
       "      <td>0.118226</td>\n",
       "      <td>-0.001687</td>\n",
       "      <td>-0.021577</td>\n",
       "      <td>1.000000</td>\n",
       "    </tr>\n",
       "  </tbody>\n",
       "</table>\n",
       "</div>"
      ],
      "text/plain": [
       "                            city  city_development_index    gender  \\\n",
       "city                    1.000000               -0.326104  0.049546   \n",
       "city_development_index -0.326104                1.000000 -0.154868   \n",
       "gender                  0.049546               -0.154868  1.000000   \n",
       "relevent_experience     0.006154               -0.059808  0.099137   \n",
       "enrolled_university    -0.079245                0.171612 -0.104901   \n",
       "education_level         0.006448                0.039749  0.059195   \n",
       "major_discipline        0.105038               -0.101260  0.065875   \n",
       "experience             -0.042545                0.035141  0.001815   \n",
       "company_size            0.026963               -0.056537  0.061470   \n",
       "company_type            0.019465               -0.030946  0.044373   \n",
       "last_new_job            0.001763               -0.024093  0.067027   \n",
       "training_hours          0.009537                0.001920  0.001057   \n",
       "target                  0.056233               -0.341665  0.067676   \n",
       "\n",
       "                        relevent_experience  enrolled_university  \\\n",
       "city                               0.006154            -0.079245   \n",
       "city_development_index            -0.059808             0.171612   \n",
       "gender                             0.099137            -0.104901   \n",
       "relevent_experience                1.000000            -0.375810   \n",
       "enrolled_university               -0.375810             1.000000   \n",
       "education_level                    0.111214             0.056155   \n",
       "major_discipline                   0.095723            -0.146363   \n",
       "experience                        -0.008235             0.024657   \n",
       "company_size                       0.343754            -0.208255   \n",
       "company_type                       0.188282            -0.093797   \n",
       "last_new_job                       0.228555            -0.050627   \n",
       "training_hours                    -0.011566             0.002530   \n",
       "target                             0.128430            -0.149475   \n",
       "\n",
       "                        education_level  major_discipline  experience  \\\n",
       "city                           0.006448          0.105038   -0.042545   \n",
       "city_development_index         0.039749         -0.101260    0.035141   \n",
       "gender                         0.059195          0.065875    0.001815   \n",
       "relevent_experience            0.111214          0.095723   -0.008235   \n",
       "enrolled_university            0.056155         -0.146363    0.024657   \n",
       "education_level                1.000000          0.190048    0.015183   \n",
       "major_discipline               0.190048          1.000000   -0.004304   \n",
       "experience                     0.015183         -0.004304    1.000000   \n",
       "company_size                   0.084057          0.073814    0.029439   \n",
       "company_type                   0.036840          0.059102    0.017863   \n",
       "last_new_job                   0.121864          0.096016    0.056310   \n",
       "training_hours                -0.005852          0.007497   -0.005202   \n",
       "target                        -0.075754         -0.005513   -0.006335   \n",
       "\n",
       "                        company_size  company_type  last_new_job  \\\n",
       "city                        0.026963      0.019465      0.001763   \n",
       "city_development_index     -0.056537     -0.030946     -0.024093   \n",
       "gender                      0.061470      0.044373      0.067027   \n",
       "relevent_experience         0.343754      0.188282      0.228555   \n",
       "enrolled_university        -0.208255     -0.093797     -0.050627   \n",
       "education_level             0.084057      0.036840      0.121864   \n",
       "major_discipline            0.073814      0.059102      0.096016   \n",
       "experience                  0.029439      0.017863      0.056310   \n",
       "company_size                1.000000      0.341661      0.194668   \n",
       "company_type                0.341661      1.000000      0.171732   \n",
       "last_new_job                0.194668      0.171732      1.000000   \n",
       "training_hours             -0.003124     -0.013025     -0.012885   \n",
       "target                      0.186114      0.118226     -0.001687   \n",
       "\n",
       "                        training_hours    target  \n",
       "city                          0.009537  0.056233  \n",
       "city_development_index        0.001920 -0.341665  \n",
       "gender                        0.001057  0.067676  \n",
       "relevent_experience          -0.011566  0.128430  \n",
       "enrolled_university           0.002530 -0.149475  \n",
       "education_level              -0.005852 -0.075754  \n",
       "major_discipline              0.007497 -0.005513  \n",
       "experience                   -0.005202 -0.006335  \n",
       "company_size                 -0.003124  0.186114  \n",
       "company_type                 -0.013025  0.118226  \n",
       "last_new_job                 -0.012885 -0.001687  \n",
       "training_hours                1.000000 -0.021577  \n",
       "target                       -0.021577  1.000000  "
      ]
     },
     "execution_count": 42,
     "metadata": {},
     "output_type": "execute_result"
    }
   ],
   "source": [
    "#Считаем корреляции \n",
    "train.corr()"
   ]
  },
  {
   "cell_type": "markdown",
   "id": "eafa8b1d-d341-4f71-af89-23f19a4e80ef",
   "metadata": {},
   "source": [
    "# Выделение признаков"
   ]
  },
  {
   "cell_type": "code",
   "execution_count": 43,
   "id": "c266ebac-3cf1-4d66-a952-619b54cc6217",
   "metadata": {},
   "outputs": [],
   "source": [
    "y = train['target'].values\n",
    "del train['target']\n",
    "X = train.values"
   ]
  },
  {
   "cell_type": "code",
   "execution_count": 44,
   "id": "16c4a50b-b6a3-404c-a947-97f8b9ee73a0",
   "metadata": {},
   "outputs": [],
   "source": [
    "X = StandardScaler().fit_transform(X)"
   ]
  },
  {
   "cell_type": "code",
   "execution_count": 45,
   "id": "6e1e5539-87d2-42d0-a627-28704a910318",
   "metadata": {},
   "outputs": [
    {
     "name": "stdout",
     "output_type": "stream",
     "text": [
      "(19158, 12)\n",
      "(19158,)\n"
     ]
    }
   ],
   "source": [
    "print(X.shape)\n",
    "print(y.shape)"
   ]
  },
  {
   "cell_type": "code",
   "execution_count": 46,
   "id": "1ff8075b-eb3c-4b6b-a918-9a3b32cb4329",
   "metadata": {},
   "outputs": [],
   "source": [
    "X_train, X_val, y_train, y_val = train_test_split(X, y, test_size = 0.2, shuffle=True, random_state=888)"
   ]
  },
  {
   "cell_type": "code",
   "execution_count": 47,
   "id": "63439801-a35f-4e2f-ba2d-8f789285b1c1",
   "metadata": {},
   "outputs": [
    {
     "name": "stdout",
     "output_type": "stream",
     "text": [
      "(15326, 12)\n",
      "(3832, 12)\n",
      "(15326,)\n",
      "(3832,)\n"
     ]
    }
   ],
   "source": [
    "print(X_train.shape)\n",
    "print(X_val.shape)\n",
    "print(y_train.shape)\n",
    "print(y_val.shape)"
   ]
  },
  {
   "cell_type": "markdown",
   "id": "89aa1dc5-a24f-462e-8ca0-859667ccdd54",
   "metadata": {},
   "source": [
    "# Logistic Regression"
   ]
  },
  {
   "cell_type": "code",
   "execution_count": 48,
   "id": "a2213853-14b8-4cda-bc8c-3768ae364fb5",
   "metadata": {},
   "outputs": [
    {
     "name": "stdout",
     "output_type": "stream",
     "text": [
      "              precision    recall  f1-score   support\n",
      "\n",
      "         0.0       0.79      0.94      0.86      2858\n",
      "         1.0       0.61      0.27      0.37       974\n",
      "\n",
      "    accuracy                           0.77      3832\n",
      "   macro avg       0.70      0.60      0.62      3832\n",
      "weighted avg       0.74      0.77      0.74      3832\n",
      "\n"
     ]
    }
   ],
   "source": [
    "clf = LogisticRegression().fit(X_train, y_train)\n",
    "print(classification_report(y_val, clf.predict(X_val)))"
   ]
  },
  {
   "attachments": {},
   "cell_type": "markdown",
   "id": "cbb6a35f-1e1c-41a3-b608-440408b642f8",
   "metadata": {
    "jp-MarkdownHeadingCollapsed": true,
    "tags": []
   },
   "source": [
    "# k nearest neighbors"
   ]
  },
  {
   "cell_type": "code",
   "execution_count": 49,
   "id": "c076b5c1-ea8b-47ff-b0c0-ca575cc7c8a5",
   "metadata": {},
   "outputs": [
    {
     "name": "stdout",
     "output_type": "stream",
     "text": [
      "              precision    recall  f1-score   support\n",
      "\n",
      "         0.0       0.82      0.88      0.85      2858\n",
      "         1.0       0.57      0.45      0.50       974\n",
      "\n",
      "    accuracy                           0.77      3832\n",
      "   macro avg       0.70      0.67      0.68      3832\n",
      "weighted avg       0.76      0.77      0.76      3832\n",
      "\n"
     ]
    }
   ],
   "source": [
    "clf = KNeighborsClassifier(n_neighbors = 5)\n",
    "clf.fit(X_train, y_train)\n",
    "print(classification_report(y_val, clf.predict(X_val)))"
   ]
  },
  {
   "cell_type": "code",
   "execution_count": 52,
   "id": "b9aca404-3814-4dd4-9890-52b67f7eea3b",
   "metadata": {},
   "outputs": [
    {
     "name": "stdout",
     "output_type": "stream",
     "text": [
      "n_neighbors =  3\n",
      "              precision    recall  f1-score   support\n",
      "\n",
      "         0.0       0.82      0.86      0.84      2858\n",
      "         1.0       0.53      0.44      0.48       974\n",
      "\n",
      "    accuracy                           0.76      3832\n",
      "   macro avg       0.67      0.65      0.66      3832\n",
      "weighted avg       0.75      0.76      0.75      3832\n",
      "\n",
      "==================================\n",
      "n_neighbors =  4\n",
      "              precision    recall  f1-score   support\n",
      "\n",
      "         0.0       0.79      0.93      0.85      2858\n",
      "         1.0       0.57      0.29      0.38       974\n",
      "\n",
      "    accuracy                           0.76      3832\n",
      "   macro avg       0.68      0.61      0.62      3832\n",
      "weighted avg       0.74      0.76      0.73      3832\n",
      "\n",
      "==================================\n",
      "n_neighbors =  5\n",
      "              precision    recall  f1-score   support\n",
      "\n",
      "         0.0       0.82      0.88      0.85      2858\n",
      "         1.0       0.57      0.45      0.50       974\n",
      "\n",
      "    accuracy                           0.77      3832\n",
      "   macro avg       0.70      0.67      0.68      3832\n",
      "weighted avg       0.76      0.77      0.76      3832\n",
      "\n",
      "==================================\n",
      "n_neighbors =  6\n",
      "              precision    recall  f1-score   support\n",
      "\n",
      "         0.0       0.80      0.93      0.86      2858\n",
      "         1.0       0.59      0.31      0.41       974\n",
      "\n",
      "    accuracy                           0.77      3832\n",
      "   macro avg       0.69      0.62      0.63      3832\n",
      "weighted avg       0.75      0.77      0.74      3832\n",
      "\n",
      "==================================\n",
      "n_neighbors =  7\n",
      "              precision    recall  f1-score   support\n",
      "\n",
      "         0.0       0.82      0.89      0.85      2858\n",
      "         1.0       0.57      0.42      0.48       974\n",
      "\n",
      "    accuracy                           0.77      3832\n",
      "   macro avg       0.69      0.66      0.67      3832\n",
      "weighted avg       0.76      0.77      0.76      3832\n",
      "\n",
      "==================================\n",
      "n_neighbors =  8\n",
      "              precision    recall  f1-score   support\n",
      "\n",
      "         0.0       0.80      0.93      0.86      2858\n",
      "         1.0       0.58      0.30      0.40       974\n",
      "\n",
      "    accuracy                           0.77      3832\n",
      "   macro avg       0.69      0.61      0.63      3832\n",
      "weighted avg       0.74      0.77      0.74      3832\n",
      "\n",
      "==================================\n",
      "n_neighbors =  9\n",
      "              precision    recall  f1-score   support\n",
      "\n",
      "         0.0       0.81      0.90      0.86      2858\n",
      "         1.0       0.58      0.40      0.47       974\n",
      "\n",
      "    accuracy                           0.77      3832\n",
      "   macro avg       0.70      0.65      0.66      3832\n",
      "weighted avg       0.75      0.77      0.76      3832\n",
      "\n",
      "==================================\n",
      "n_neighbors =  10\n",
      "              precision    recall  f1-score   support\n",
      "\n",
      "         0.0       0.80      0.93      0.86      2858\n",
      "         1.0       0.61      0.32      0.42       974\n",
      "\n",
      "    accuracy                           0.77      3832\n",
      "   macro avg       0.70      0.62      0.64      3832\n",
      "weighted avg       0.75      0.77      0.75      3832\n",
      "\n",
      "==================================\n"
     ]
    }
   ],
   "source": [
    "for i in range(3,11):\n",
    "    clf = KNeighborsClassifier(n_neighbors = i)\n",
    "    clf.fit(X_train, y_train)\n",
    "    print(\"n_neighbors = \", i)\n",
    "    print(classification_report(y_val, clf.predict(X_val)))\n",
    "    print(\"==================================\")"
   ]
  },
  {
   "cell_type": "markdown",
   "id": "eeb80786",
   "metadata": {},
   "source": [
    "# Выводы"
   ]
  },
  {
   "cell_type": "code",
   "execution_count": null,
   "id": "9ea3984b-97ed-4eaa-9e8f-20ce679e8aad",
   "metadata": {},
   "outputs": [],
   "source": [
    "Алгоритм \"К ближайших соседей\" лучше классифицирует сотрудника"
   ]
  }
 ],
 "metadata": {
  "kernelspec": {
   "display_name": "Python 3",
   "language": "python",
   "name": "python3"
  },
  "language_info": {
   "codemirror_mode": {
    "name": "ipython",
    "version": 3
   },
   "file_extension": ".py",
   "mimetype": "text/x-python",
   "name": "python",
   "nbconvert_exporter": "python",
   "pygments_lexer": "ipython3",
   "version": "3.8.8"
  },
  "papermill": {
   "default_parameters": {},
   "duration": 110.159742,
   "end_time": "2021-11-16T09:38:48.334305",
   "environment_variables": {},
   "exception": null,
   "input_path": "__notebook__.ipynb",
   "output_path": "__notebook__.ipynb",
   "parameters": {},
   "start_time": "2021-11-16T09:36:58.174563",
   "version": "2.3.3"
  }
 },
 "nbformat": 4,
 "nbformat_minor": 5
}
